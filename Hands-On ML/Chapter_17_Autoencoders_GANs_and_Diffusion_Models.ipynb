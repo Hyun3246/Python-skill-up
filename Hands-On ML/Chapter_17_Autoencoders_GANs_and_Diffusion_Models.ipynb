{
  "nbformat": 4,
  "nbformat_minor": 0,
  "metadata": {
    "colab": {
      "provenance": [],
      "gpuType": "T4"
    },
    "kernelspec": {
      "name": "python3",
      "display_name": "Python 3"
    },
    "language_info": {
      "name": "python"
    },
    "accelerator": "GPU"
  },
  "cells": [
    {
      "cell_type": "markdown",
      "source": [
        "## PCA with Undercomplete Linear Autoencoder"
      ],
      "metadata": {
        "id": "aWUD2DNyecF4"
      }
    },
    {
      "cell_type": "code",
      "execution_count": null,
      "metadata": {
        "colab": {
          "base_uri": "https://localhost:8080/"
        },
        "id": "c0-QQRNyd29Z",
        "outputId": "d467b66b-d336-4788-c685-d0b64877b38c"
      },
      "outputs": [
        {
          "output_type": "stream",
          "name": "stderr",
          "text": [
            "/usr/local/lib/python3.11/dist-packages/keras/src/layers/core/dense.py:87: UserWarning: Do not pass an `input_shape`/`input_dim` argument to a layer. When using Sequential models, prefer using an `Input(shape)` object as the first layer in the model instead.\n",
            "  super().__init__(activity_regularizer=activity_regularizer, **kwargs)\n"
          ]
        }
      ],
      "source": [
        "import tensorflow as tf\n",
        "\n",
        "encoder = tf.keras.Sequential([tf.keras.layers.Dense(2, input_shape=(3,))])\n",
        "decoder = tf.keras.Sequential([tf.keras.layers.Dense(3)])\n",
        "autoencoder = tf.keras.Sequential([encoder, decoder])\n",
        "\n",
        "optimizer = tf.keras.optimizers.SGD(learning_rate=0.5)\n",
        "autoencoder.compile(optimizer=optimizer, loss='mse')"
      ]
    },
    {
      "cell_type": "code",
      "source": [
        "# dataset\n",
        "import numpy as np\n",
        "from scipy.spatial.transform import Rotation\n",
        "\n",
        "m = 60\n",
        "X = np.zeros((m, 3))  # 3D 데이터 세트 초기화\n",
        "np.random.seed(42)\n",
        "angles = (np.random.rand(m) ** 3 + 0.5) * 2 * np.pi  # 고르지 않은 분포\n",
        "X[:, 0], X[:, 1] = np.cos(angles), np.sin(angles) * 0.5  # 타원형\n",
        "X += 0.28 * np.random.randn(m, 3)  # 노이즈 추가\n",
        "X = Rotation.from_rotvec([np.pi / 29, -np.pi / 20, np.pi / 4]).apply(X)\n",
        "X_train = X + [0.2, 0, 0.2]  # 약간 이동"
      ],
      "metadata": {
        "id": "nC-U0nXbe6SN"
      },
      "execution_count": null,
      "outputs": []
    },
    {
      "cell_type": "code",
      "source": [
        "history = autoencoder.fit(X_train, X_train, epochs=500, verbose=False)\n",
        "codings = encoder.predict(X_train)"
      ],
      "metadata": {
        "colab": {
          "base_uri": "https://localhost:8080/"
        },
        "id": "j_bReH9Sfkzj",
        "outputId": "fa07cd83-19a6-4cf9-86d4-2e6c83919c70"
      },
      "execution_count": null,
      "outputs": [
        {
          "output_type": "stream",
          "name": "stdout",
          "text": [
            "\u001b[1m2/2\u001b[0m \u001b[32m━━━━━━━━━━━━━━━━━━━━\u001b[0m\u001b[37m\u001b[0m \u001b[1m0s\u001b[0m 92ms/step\n"
          ]
        }
      ]
    },
    {
      "cell_type": "code",
      "source": [
        "import matplotlib.pyplot as plt\n",
        "\n",
        "fig = plt.figure(figsize=(4,3))\n",
        "plt.plot(codings[:,0], codings[:, 1], \"b.\")\n",
        "plt.xlabel(\"$z_1$\", fontsize=18)\n",
        "plt.ylabel(\"$z_2$\", fontsize=18, rotation=0)\n",
        "plt.grid(True)\n",
        "plt.show()"
      ],
      "metadata": {
        "colab": {
          "base_uri": "https://localhost:8080/",
          "height": 321
        },
        "id": "AVkoCV6vftMP",
        "outputId": "79eea9fd-8afa-47ab-aa9c-79cbb653f199"
      },
      "execution_count": null,
      "outputs": [
        {
          "output_type": "display_data",
          "data": {
            "text/plain": [
              "<Figure size 400x300 with 1 Axes>"
            ],
            "image/png": "[encoded data removed]"
          },
          "metadata": {}
        }
      ]
    },
    {
      "cell_type": "markdown",
      "source": [
        "## Stacked Encoder"
      ],
      "metadata": {
        "id": "xSP_UZ1MgDNn"
      }
    },
    {
      "cell_type": "markdown",
      "source": [
        "### Stacked Encoder"
      ],
      "metadata": {
        "id": "QPbqRSZZgGDM"
      }
    },
    {
      "cell_type": "code",
      "source": [
        "# Dataset load\n",
        "fashion_mnist = tf.keras.datasets.fashion_mnist.load_data()\n",
        "(X_train_full, y_train_full), (X_test, y_test) = fashion_mnist\n",
        "X_train_full = X_train_full.astype(np.float32) / 255\n",
        "X_test = X_test.astype(np.float32) / 255\n",
        "X_train, X_valid = X_train_full[:-5000], X_train_full[-5000:]\n",
        "y_train, y_valid = y_train_full[:-5000], y_train_full[-5000:]"
      ],
      "metadata": {
        "id": "Qbb5NTzrg180",
        "colab": {
          "base_uri": "https://localhost:8080/"
        },
        "outputId": "343388e6-5102-48ce-abf8-c5938042751f"
      },
      "execution_count": 5,
      "outputs": [
        {
          "output_type": "stream",
          "name": "stdout",
          "text": [
            "Downloading data from https://storage.googleapis.com/tensorflow/tf-keras-datasets/train-labels-idx1-ubyte.gz\n",
            "\u001b[1m29515/29515\u001b[0m \u001b[32m━━━━━━━━━━━━━━━━━━━━\u001b[0m\u001b[37m\u001b[0m \u001b[1m0s\u001b[0m 0us/step\n",
            "Downloading data from https://storage.googleapis.com/tensorflow/tf-keras-datasets/train-images-idx3-ubyte.gz\n",
            "\u001b[1m26421880/26421880\u001b[0m \u001b[32m━━━━━━━━━━━━━━━━━━━━\u001b[0m\u001b[37m\u001b[0m \u001b[1m0s\u001b[0m 0us/step\n",
            "Downloading data from https://storage.googleapis.com/tensorflow/tf-keras-datasets/t10k-labels-idx1-ubyte.gz\n",
            "\u001b[1m5148/5148\u001b[0m \u001b[32m━━━━━━━━━━━━━━━━━━━━\u001b[0m\u001b[37m\u001b[0m \u001b[1m0s\u001b[0m 1us/step\n",
            "Downloading data from https://storage.googleapis.com/tensorflow/tf-keras-datasets/t10k-images-idx3-ubyte.gz\n",
            "\u001b[1m4422102/4422102\u001b[0m \u001b[32m━━━━━━━━━━━━━━━━━━━━\u001b[0m\u001b[37m\u001b[0m \u001b[1m0s\u001b[0m 0us/step\n"
          ]
        }
      ]
    },
    {
      "cell_type": "code",
      "source": [
        "stacked_encoder = tf.keras.Sequential([\n",
        "    tf.keras.layers.Flatten(input_shape=(28, 28)),\n",
        "    tf.keras.layers.Dense(100, activation='relu'),\n",
        "    tf.keras.layers.Dense(30, activation='relu'),\n",
        "])\n",
        "stacked_decoder = tf.keras.Sequential([\n",
        "    tf.keras.layers.Dense(100, activation='relu'),\n",
        "    tf.keras.layers.Dense(28 * 28),\n",
        "    tf.keras.layers.Reshape([28, 28])\n",
        "])\n",
        "stacked_ae = tf.keras.Sequential([stacked_encoder, stacked_decoder])\n",
        "\n",
        "stacked_ae.compile(loss='mse', optimizer='nadam')\n",
        "history = stacked_ae.fit(X_train, X_train, epochs=20, validation_data=(X_valid, X_valid))"
      ],
      "metadata": {
        "colab": {
          "base_uri": "https://localhost:8080/"
        },
        "id": "nAYBoiEgf2R-",
        "outputId": "8875281e-86dd-4a23-8bc1-2835d88fa727"
      },
      "execution_count": null,
      "outputs": [
        {
          "output_type": "stream",
          "name": "stderr",
          "text": [
            "/usr/local/lib/python3.11/dist-packages/keras/src/layers/reshaping/flatten.py:37: UserWarning: Do not pass an `input_shape`/`input_dim` argument to a layer. When using Sequential models, prefer using an `Input(shape)` object as the first layer in the model instead.\n",
            "  super().__init__(**kwargs)\n"
          ]
        },
        {
          "output_type": "stream",
          "name": "stdout",
          "text": [
            "Epoch 1/20\n",
            "\u001b[1m1719/1719\u001b[0m \u001b[32m━━━━━━━━━━━━━━━━━━━━\u001b[0m\u001b[37m\u001b[0m \u001b[1m9s\u001b[0m 3ms/step - loss: 0.0358 - val_loss: 0.0186\n",
            "Epoch 2/20\n",
            "\u001b[1m1719/1719\u001b[0m \u001b[32m━━━━━━━━━━━━━━━━━━━━\u001b[0m\u001b[37m\u001b[0m \u001b[1m7s\u001b[0m 2ms/step - loss: 0.0176 - val_loss: 0.0167\n",
            "Epoch 3/20\n",
            "\u001b[1m1719/1719\u001b[0m \u001b[32m━━━━━━━━━━━━━━━━━━━━\u001b[0m\u001b[37m\u001b[0m \u001b[1m6s\u001b[0m 2ms/step - loss: 0.0164 - val_loss: 0.0162\n",
            "Epoch 4/20\n",
            "\u001b[1m1719/1719\u001b[0m \u001b[32m━━━━━━━━━━━━━━━━━━━━\u001b[0m\u001b[37m\u001b[0m \u001b[1m5s\u001b[0m 2ms/step - loss: 0.0158 - val_loss: 0.0158\n",
            "Epoch 5/20\n",
            "\u001b[1m1719/1719\u001b[0m \u001b[32m━━━━━━━━━━━━━━━━━━━━\u001b[0m\u001b[37m\u001b[0m \u001b[1m5s\u001b[0m 2ms/step - loss: 0.0154 - val_loss: 0.0154\n",
            "Epoch 6/20\n",
            "\u001b[1m1719/1719\u001b[0m \u001b[32m━━━━━━━━━━━━━━━━━━━━\u001b[0m\u001b[37m\u001b[0m \u001b[1m5s\u001b[0m 2ms/step - loss: 0.0151 - val_loss: 0.0152\n",
            "Epoch 7/20\n",
            "\u001b[1m1719/1719\u001b[0m \u001b[32m━━━━━━━━━━━━━━━━━━━━\u001b[0m\u001b[37m\u001b[0m \u001b[1m3s\u001b[0m 2ms/step - loss: 0.0150 - val_loss: 0.0150\n",
            "Epoch 8/20\n",
            "\u001b[1m1719/1719\u001b[0m \u001b[32m━━━━━━━━━━━━━━━━━━━━\u001b[0m\u001b[37m\u001b[0m \u001b[1m3s\u001b[0m 2ms/step - loss: 0.0148 - val_loss: 0.0149\n",
            "Epoch 9/20\n",
            "\u001b[1m1719/1719\u001b[0m \u001b[32m━━━━━━━━━━━━━━━━━━━━\u001b[0m\u001b[37m\u001b[0m \u001b[1m5s\u001b[0m 2ms/step - loss: 0.0146 - val_loss: 0.0147\n",
            "Epoch 10/20\n",
            "\u001b[1m1719/1719\u001b[0m \u001b[32m━━━━━━━━━━━━━━━━━━━━\u001b[0m\u001b[37m\u001b[0m \u001b[1m3s\u001b[0m 2ms/step - loss: 0.0145 - val_loss: 0.0145\n",
            "Epoch 11/20\n",
            "\u001b[1m1719/1719\u001b[0m \u001b[32m━━━━━━━━━━━━━━━━━━━━\u001b[0m\u001b[37m\u001b[0m \u001b[1m6s\u001b[0m 2ms/step - loss: 0.0142 - val_loss: 0.0144\n",
            "Epoch 12/20\n",
            "\u001b[1m1719/1719\u001b[0m \u001b[32m━━━━━━━━━━━━━━━━━━━━\u001b[0m\u001b[37m\u001b[0m \u001b[1m5s\u001b[0m 2ms/step - loss: 0.0141 - val_loss: 0.0143\n",
            "Epoch 13/20\n",
            "\u001b[1m1719/1719\u001b[0m \u001b[32m━━━━━━━━━━━━━━━━━━━━\u001b[0m\u001b[37m\u001b[0m \u001b[1m3s\u001b[0m 2ms/step - loss: 0.0140 - val_loss: 0.0143\n",
            "Epoch 14/20\n",
            "\u001b[1m1719/1719\u001b[0m \u001b[32m━━━━━━━━━━━━━━━━━━━━\u001b[0m\u001b[37m\u001b[0m \u001b[1m6s\u001b[0m 2ms/step - loss: 0.0140 - val_loss: 0.0142\n",
            "Epoch 15/20\n",
            "\u001b[1m1719/1719\u001b[0m \u001b[32m━━━━━━━━━━━━━━━━━━━━\u001b[0m\u001b[37m\u001b[0m \u001b[1m3s\u001b[0m 2ms/step - loss: 0.0139 - val_loss: 0.0141\n",
            "Epoch 16/20\n",
            "\u001b[1m1719/1719\u001b[0m \u001b[32m━━━━━━━━━━━━━━━━━━━━\u001b[0m\u001b[37m\u001b[0m \u001b[1m3s\u001b[0m 2ms/step - loss: 0.0138 - val_loss: 0.0141\n",
            "Epoch 17/20\n",
            "\u001b[1m1719/1719\u001b[0m \u001b[32m━━━━━━━━━━━━━━━━━━━━\u001b[0m\u001b[37m\u001b[0m \u001b[1m6s\u001b[0m 2ms/step - loss: 0.0139 - val_loss: 0.0140\n",
            "Epoch 18/20\n",
            "\u001b[1m1719/1719\u001b[0m \u001b[32m━━━━━━━━━━━━━━━━━━━━\u001b[0m\u001b[37m\u001b[0m \u001b[1m3s\u001b[0m 2ms/step - loss: 0.0138 - val_loss: 0.0139\n",
            "Epoch 19/20\n",
            "\u001b[1m1719/1719\u001b[0m \u001b[32m━━━━━━━━━━━━━━━━━━━━\u001b[0m\u001b[37m\u001b[0m \u001b[1m3s\u001b[0m 2ms/step - loss: 0.0137 - val_loss: 0.0139\n",
            "Epoch 20/20\n",
            "\u001b[1m1719/1719\u001b[0m \u001b[32m━━━━━━━━━━━━━━━━━━━━\u001b[0m\u001b[37m\u001b[0m \u001b[1m3s\u001b[0m 2ms/step - loss: 0.0137 - val_loss: 0.0139\n"
          ]
        }
      ]
    },
    {
      "cell_type": "markdown",
      "source": [
        "### Reconstruction Visualization"
      ],
      "metadata": {
        "id": "i5Jei1x7hfx2"
      }
    },
    {
      "cell_type": "code",
      "source": [
        "import numpy as np\n",
        "\n",
        "def plot_reconstructions(model, images=X_valid, n_images=5):\n",
        "    reconstructions = np.clip(model.predict(images[:n_images]), 0, 1)\n",
        "    fig = plt.figure(figsize=(n_images * 1.5, 3))\n",
        "    for image_index in range(n_images):\n",
        "        plt.subplot(2, n_images, 1 + image_index)\n",
        "        plt.imshow(images[image_index], cmap=\"binary\")\n",
        "        plt.axis('off')\n",
        "        plt.subplot(2, n_images, 1 + n_images + image_index)\n",
        "        plt.imshow(reconstructions[image_index], cmap=\"binary\")\n",
        "        plt.axis('off')\n",
        "plot_reconstructions(stacked_ae)\n",
        "plt.show()"
      ],
      "metadata": {
        "colab": {
          "base_uri": "https://localhost:8080/",
          "height": 281
        },
        "id": "mwcmsDB2g9RO",
        "outputId": "f3c5a8fd-56ab-489a-b829-ee3966937875"
      },
      "execution_count": null,
      "outputs": [
        {
          "output_type": "stream",
          "name": "stdout",
          "text": [
            "\u001b[1m1/1\u001b[0m \u001b[32m━━━━━━━━━━━━━━━━━━━━\u001b[0m\u001b[37m\u001b[0m \u001b[1m0s\u001b[0m 316ms/step\n"
          ]
        },
        {
          "output_type": "display_data",
          "data": {
            "text/plain": [
              "<Figure size 750x300 with 10 Axes>"
            ],
            "image/png": "[encoded data removed]"
          },
          "metadata": {}
        }
      ]
    },
    {
      "cell_type": "markdown",
      "source": [
        "### Fashion MNIST Dataset Visualization"
      ],
      "metadata": {
        "id": "VwXtz0Luii2r"
      }
    },
    {
      "cell_type": "code",
      "source": [
        "from sklearn.manifold import TSNE\n",
        "X_valid_compressed = stacked_encoder.predict(X_valid)\n",
        "tsne = TSNE(init='pca', learning_rate='auto', random_state=42)\n",
        "X_valid_2D = tsne.fit_transform(X_valid_compressed)"
      ],
      "metadata": {
        "colab": {
          "base_uri": "https://localhost:8080/"
        },
        "id": "gSkC_QJ_iYr7",
        "outputId": "ffed4b0a-84c0-4777-e8ad-2e19304258f5"
      },
      "execution_count": null,
      "outputs": [
        {
          "output_type": "stream",
          "name": "stdout",
          "text": [
            "\u001b[1m157/157\u001b[0m \u001b[32m━━━━━━━━━━━━━━━━━━━━\u001b[0m\u001b[37m\u001b[0m \u001b[1m1s\u001b[0m 3ms/step\n"
          ]
        }
      ]
    },
    {
      "cell_type": "code",
      "source": [
        "plt.scatter(X_valid_2D[:, 0], X_valid_2D[:, 1], c=y_valid, s=10, cmap='tab10')\n",
        "plt.show()"
      ],
      "metadata": {
        "colab": {
          "base_uri": "https://localhost:8080/",
          "height": 430
        },
        "id": "3XN4j8FLjKcI",
        "outputId": "4076b765-25b2-4c3b-a01e-5b175e5bb812"
      },
      "execution_count": null,
      "outputs": [
        {
          "output_type": "display_data",
          "data": {
            "text/plain": [
              "<Figure size 640x480 with 1 Axes>"
            ],
            "image/png": "[encoded data removed]"
          },
          "metadata": {}
        }
      ]
    },
    {
      "cell_type": "markdown",
      "source": [
        "### Tying Weights"
      ],
      "metadata": {
        "id": "HXY44dOfjteq"
      }
    },
    {
      "cell_type": "code",
      "source": [
        "class DenseTranspose(tf.keras.layers.Layer):\n",
        "    def __init__(self, dense, activation=None, **kwargs):\n",
        "        super().__init__(**kwargs)\n",
        "        self.dense = dense\n",
        "        self.activation = tf.keras.activations.get(activation)\n",
        "\n",
        "    def build(self, batch_input_shape):\n",
        "        input_dim = self.dense.kernel.shape[0]\n",
        "        self.biases = self.add_weight(name=\"bias\",\n",
        "                                      shape=(input_dim,),\n",
        "                                      initializer=\"zeros\")\n",
        "        super().build(batch_input_shape)\n",
        "\n",
        "    def call(self, inputs):\n",
        "        Z = tf.matmul(inputs, self.dense.kernel, transpose_b=True)\n",
        "        return self.activation(Z + self.biases)"
      ],
      "metadata": {
        "id": "bo4DEfGQjW-Z"
      },
      "execution_count": null,
      "outputs": []
    },
    {
      "cell_type": "code",
      "source": [
        "dense_1 = tf.keras.layers.Dense(100, activation=\"relu\")\n",
        "dense_2 = tf.keras.layers.Dense(30, activation=\"relu\")\n",
        "\n",
        "tied_encoder = tf.keras.Sequential([\n",
        "    tf.keras.layers.Flatten(input_shape=[28, 28]),\n",
        "    dense_1,\n",
        "    dense_2\n",
        "])\n",
        "\n",
        "tied_decoder = tf.keras.Sequential([\n",
        "    DenseTranspose(dense_2, activation=\"relu\"),\n",
        "    DenseTranspose(dense_1),\n",
        "    tf.keras.layers.Reshape([28, 28])\n",
        "])\n",
        "\n",
        "tied_ae = tf.keras.Sequential([tied_encoder, tied_decoder])"
      ],
      "metadata": {
        "id": "oHdug8PkkpPo",
        "colab": {
          "base_uri": "https://localhost:8080/"
        },
        "outputId": "fe163a54-76e6-4729-8176-95a3ae1b8e9e"
      },
      "execution_count": null,
      "outputs": [
        {
          "output_type": "stream",
          "name": "stderr",
          "text": [
            "/usr/local/lib/python3.11/dist-packages/keras/src/layers/reshaping/flatten.py:37: UserWarning: Do not pass an `input_shape`/`input_dim` argument to a layer. When using Sequential models, prefer using an `Input(shape)` object as the first layer in the model instead.\n",
            "  super().__init__(**kwargs)\n"
          ]
        }
      ]
    },
    {
      "cell_type": "markdown",
      "source": [
        "## Convolutional Autoencoder"
      ],
      "metadata": {
        "id": "rQ_hZJG_mj1Q"
      }
    },
    {
      "cell_type": "code",
      "source": [
        "conv_encoder = tf.keras.Sequential([\n",
        "    tf.keras.layers.Reshape([28, 28, 1], input_shape=[28, 28]),\n",
        "    tf.keras.layers.Conv2D(16, 3, padding='same', activation='relu'),\n",
        "    tf.keras.layers.MaxPool2D(pool_size=2),\n",
        "    tf.keras.layers.Conv2D(32, 3, padding='same', activation='relu'),\n",
        "    tf.keras.layers.MaxPool2D(pool_size=2),\n",
        "    tf.keras.layers.Conv2D(64, 3, padding='same', activation='relu'),\n",
        "    tf.keras.layers.MaxPool2D(pool_size=2),\n",
        "    tf.keras.layers.Conv2D(30, 3, padding='same', activation='relu'),\n",
        "    tf.keras.layers.GlobalAvgPool2D(),\n",
        "])\n",
        "conv_decoder = tf.keras.Sequential([\n",
        "    tf.keras.layers.Dense(3 * 3 * 16),\n",
        "    tf.keras.layers.Reshape((3, 3, 16)),\n",
        "    tf.keras.layers.Conv2DTranspose(32, 3, strides=2, activation='relu'),\n",
        "    tf.keras.layers.Conv2DTranspose(16, 3, strides=2, activation='relu', padding='same'),\n",
        "    tf.keras.layers.Conv2DTranspose(1, 3, strides=2, padding='same'),\n",
        "    tf.keras.layers.Reshape([28, 28])\n",
        "])\n",
        "conv_ae = tf.keras.Sequential([conv_encoder, conv_decoder])"
      ],
      "metadata": {
        "colab": {
          "base_uri": "https://localhost:8080/"
        },
        "id": "vgT-xDBtmigm",
        "outputId": "e82659ea-4721-44ff-a072-684531af4133"
      },
      "execution_count": null,
      "outputs": [
        {
          "output_type": "stream",
          "name": "stderr",
          "text": [
            "/usr/local/lib/python3.11/dist-packages/keras/src/layers/reshaping/reshape.py:39: UserWarning: Do not pass an `input_shape`/`input_dim` argument to a layer. When using Sequential models, prefer using an `Input(shape)` object as the first layer in the model instead.\n",
            "  super().__init__(**kwargs)\n"
          ]
        }
      ]
    },
    {
      "cell_type": "markdown",
      "source": [
        "## Noise Removing Autoencoder"
      ],
      "metadata": {
        "id": "fU0iJLPwoX8U"
      }
    },
    {
      "cell_type": "code",
      "source": [
        "dropout_encoder = tf.keras.Sequential([\n",
        "    tf.keras.layers.Flatten(input_shape=(28, 28)),\n",
        "    tf.keras.layers.Dropout(0.5),\n",
        "    tf.keras.layers.Dense(100, activation='relu'),\n",
        "    tf.keras.layers.Dense(30, activation='relu'),\n",
        "])\n",
        "dropout_decoder = tf.keras.Sequential([\n",
        "    tf.keras.layers.Dense(100, activation='relu'),\n",
        "    tf.keras.layers.Dense(28 * 28),\n",
        "    tf.keras.layers.Reshape([28, 28])\n",
        "])\n",
        "dropout_ae = tf.keras.Sequential([dropout_encoder, dropout_decoder])"
      ],
      "metadata": {
        "colab": {
          "base_uri": "https://localhost:8080/"
        },
        "id": "tWJe0XmjoHLD",
        "outputId": "f0c71adb-cffc-4dc2-b4cc-45c7a39bcd18"
      },
      "execution_count": null,
      "outputs": [
        {
          "output_type": "stream",
          "name": "stderr",
          "text": [
            "/usr/local/lib/python3.11/dist-packages/keras/src/layers/reshaping/flatten.py:37: UserWarning: Do not pass an `input_shape`/`input_dim` argument to a layer. When using Sequential models, prefer using an `Input(shape)` object as the first layer in the model instead.\n",
            "  super().__init__(**kwargs)\n"
          ]
        }
      ]
    },
    {
      "cell_type": "markdown",
      "source": [
        "## Sparsity Autoencoder"
      ],
      "metadata": {
        "id": "DwkBMDmZp8aH"
      }
    },
    {
      "cell_type": "code",
      "source": [
        "sparse_l1_encoder = tf.keras.Sequential([\n",
        "    tf.keras.layers.Flatten(input_shape=(28, 28)),\n",
        "    tf.keras.layers.Dense(100, activation='relu'),\n",
        "    tf.keras.layers.Dense(300, activation='sigmoid'),\n",
        "    tf.keras.layers.ActivityRegularization(l1=1e-4)\n",
        "])\n",
        "sparse_l1_decoder = tf.keras.Sequential([\n",
        "    tf.keras.layers.Dense(100, activation='relu'),\n",
        "    tf.keras.layers.Dense(28 * 28),\n",
        "    tf.keras.layers.Reshape([28, 28])\n",
        "])\n",
        "sparse_l1_ae = tf.keras.Sequential([sparse_l1_encoder, sparse_l1_decoder])"
      ],
      "metadata": {
        "colab": {
          "base_uri": "https://localhost:8080/"
        },
        "id": "pjtOvJvnpAjw",
        "outputId": "c8a851a7-6baa-479d-fad0-d46ea373dd21"
      },
      "execution_count": null,
      "outputs": [
        {
          "output_type": "stream",
          "name": "stderr",
          "text": [
            "/usr/local/lib/python3.11/dist-packages/keras/src/layers/reshaping/flatten.py:37: UserWarning: Do not pass an `input_shape`/`input_dim` argument to a layer. When using Sequential models, prefer using an `Input(shape)` object as the first layer in the model instead.\n",
            "  super().__init__(**kwargs)\n"
          ]
        }
      ]
    },
    {
      "cell_type": "code",
      "source": [
        "kl_divergence = tf.keras.losses.kullback_leibler_divergence\n",
        "\n",
        "class KLDivergenceRegularizer(tf.keras.regularizers.Regularizer):\n",
        "    def __init__(self, weight, target):\n",
        "        self.weight = weight\n",
        "        self.target = target\n",
        "\n",
        "    def __call__(self, inputs):\n",
        "        mean_activities = tf.reduce_mean(inputs, axis=0)\n",
        "        return self.weight * (\n",
        "            kl_divergence(self.target, mean_activities) +\n",
        "            kl_divergence(1. - self.target, 1. - mean_activities)\n",
        "        )"
      ],
      "metadata": {
        "id": "1V8isHnpq6oA"
      },
      "execution_count": null,
      "outputs": []
    },
    {
      "cell_type": "code",
      "source": [
        "kld_reg = KLDivergenceRegularizer(weight=5e-3, target=0.1)\n",
        "sparse_kl_encoder = tf.keras.Sequential([\n",
        "    tf.keras.layers.Flatten(input_shape=(28, 28)),\n",
        "    tf.keras.layers.Dense(100, activation='relu'),\n",
        "    tf.keras.layers.Dense(300, activation='sigmoid', activity_regularizer=kld_reg)\n",
        "])\n",
        "sparse_kl_decoder = tf.keras.Sequential([\n",
        "    tf.keras.layers.Dense(100, activation='relu'),\n",
        "    tf.keras.layers.Dense(28 * 28),\n",
        "    tf.keras.layers.Reshape([28, 28])\n",
        "])\n",
        "sparse_kl_ae = tf.keras.Sequential([sparse_kl_encoder, sparse_kl_decoder])"
      ],
      "metadata": {
        "colab": {
          "base_uri": "https://localhost:8080/"
        },
        "id": "MyhDC-SesUQ8",
        "outputId": "591631ec-97b9-439d-a3c9-a7fc613eef41"
      },
      "execution_count": null,
      "outputs": [
        {
          "output_type": "stream",
          "name": "stderr",
          "text": [
            "/usr/local/lib/python3.11/dist-packages/keras/src/layers/reshaping/flatten.py:37: UserWarning: Do not pass an `input_shape`/`input_dim` argument to a layer. When using Sequential models, prefer using an `Input(shape)` object as the first layer in the model instead.\n",
            "  super().__init__(**kwargs)\n"
          ]
        }
      ]
    },
    {
      "cell_type": "markdown",
      "source": [
        "## Variational Autoencoder"
      ],
      "metadata": {
        "id": "GdtFInxysu0w"
      }
    },
    {
      "cell_type": "code",
      "source": [
        "class Sampling(tf.keras.layers.Layer):\n",
        "    def call(self, inputs):\n",
        "        mean, log_var = inputs\n",
        "        return tf.random.normal(tf.shape(log_var)) * tf.exp(log_var / 2) + mean"
      ],
      "metadata": {
        "id": "vKdqrH4dssKZ"
      },
      "execution_count": null,
      "outputs": []
    },
    {
      "cell_type": "code",
      "source": [
        "codings_size = 10\n",
        "\n",
        "inputs = tf.keras.layers.Input(shape=[28, 28])\n",
        "Z = tf.keras.layers.Flatten()(inputs)\n",
        "Z = tf.keras.layers.Dense(150, activation='relu')(Z)\n",
        "Z = tf.keras.layers.Dense(100, activation='relu')(Z)\n",
        "codings_mean = tf.keras.layers.Dense(codings_size)(Z)\n",
        "codings_log_var = tf.keras.layers.Dense(codings_size)(Z)\n",
        "codings = Sampling()([codings_mean, codings_log_var])\n",
        "variational_encoder = tf.keras.Model(inputs=[inputs], outputs=[codings_mean, codings_log_var, codings])"
      ],
      "metadata": {
        "id": "hZq3MsoqueDe"
      },
      "execution_count": null,
      "outputs": []
    },
    {
      "cell_type": "code",
      "source": [
        "decoder_inputs = tf.keras.layers.Input(shape=[codings_size])\n",
        "x = tf.keras.layers.Dense(100, activation='relu')(decoder_inputs)\n",
        "x = tf.keras.layers.Dense(150, activation='relu')(x)\n",
        "x = tf.keras.layers.Dense(28 * 28)(x)\n",
        "outputs = tf.keras.layers.Reshape([28, 28])(x)\n",
        "variational_decoder = tf.keras.Model(inputs=[decoder_inputs], outputs=[outputs])"
      ],
      "metadata": {
        "id": "GOpLlBiyu4Gx"
      },
      "execution_count": null,
      "outputs": []
    },
    {
      "cell_type": "code",
      "source": [
        "_, _, codings = variational_encoder(inputs)\n",
        "reconstructions = variational_decoder(codings)\n",
        "variational_ae = tf.keras.Model(inputs=[inputs], outputs=[reconstructions])"
      ],
      "metadata": {
        "id": "k94j-1jLvPKE"
      },
      "execution_count": null,
      "outputs": []
    },
    {
      "cell_type": "code",
      "source": [
        "latent_loss = -0.5 * tf.reduce_sum(\n",
        "    1 + codings_log_var - tf.exp(codings_log_var) - tf.square(codings_mean),\n",
        "    axis=-1\n",
        ")\n",
        "variational_ae.add_loss(tf.reduce_mean(latent_loss) / 784.)"
      ],
      "metadata": {
        "id": "lnnYTk_bvUqs"
      },
      "execution_count": null,
      "outputs": []
    },
    {
      "cell_type": "code",
      "source": [
        "variational_ae.compile(loss='mse', optimizer='nadam')\n",
        "history = variational_ae.fit(X_train, X_train, epochs=25, batch_size=128, validation_data=(X_valid, X_valid))"
      ],
      "metadata": {
        "id": "RFsrhv0jvkWS"
      },
      "execution_count": null,
      "outputs": []
    },
    {
      "cell_type": "markdown",
      "source": [
        "### Generate image with fashion MNIST"
      ],
      "metadata": {
        "id": "j8gmkpujw9PC"
      }
    },
    {
      "cell_type": "code",
      "source": [
        "codings = tf.random.normal(shape=[3*7, codings_size])\n",
        "images = variational_decoder(codings).numpy()"
      ],
      "metadata": {
        "id": "euGw3xCrxAPg"
      },
      "execution_count": null,
      "outputs": []
    },
    {
      "cell_type": "code",
      "source": [
        "codings = np.zeros([7, coding_size])\n",
        "codings[:, 3] = np.linspace(-0.8, 0.8, 7)\n",
        "images = variational_decoder(codings).numpy()"
      ],
      "metadata": {
        "id": "K9OybploxKz4"
      },
      "execution_count": null,
      "outputs": []
    },
    {
      "cell_type": "markdown",
      "source": [
        "## GAN"
      ],
      "metadata": {
        "id": "kjS2xlmPxo6o"
      }
    },
    {
      "cell_type": "code",
      "source": [
        "import tensorflow as tf\n",
        "import numpy as np"
      ],
      "metadata": {
        "id": "6LQKFBrDyLhq"
      },
      "execution_count": null,
      "outputs": []
    },
    {
      "cell_type": "code",
      "source": [
        "codings_size = 30\n",
        "\n",
        "Dense = tf.keras.layers.Dense\n",
        "generator = tf.keras.Sequential([\n",
        "    tf.keras.layers.Input(shape=(codings_size,)),\n",
        "    Dense(100, activation='relu', kernel_initializer='he_normal'),\n",
        "    Dense(150, activation='relu', kernel_initializer='he_normal'),\n",
        "    Dense(28 * 28, activation='sigmoid'),\n",
        "    tf.keras.layers.Reshape([28, 28])\n",
        "])\n",
        "\n",
        "discriminator = tf.keras.Sequential([\n",
        "    tf.keras.layers.Flatten(input_shape=[28, 28]),\n",
        "    Dense(150, activation='relu', kernel_initializer='he_normal'),\n",
        "    Dense(100, activation='relu', kernel_initializer='he_normal'),\n",
        "    Dense(1, activation='sigmoid')\n",
        "])\n",
        "\n",
        "gan = tf.keras.Sequential([generator, discriminator])"
      ],
      "metadata": {
        "colab": {
          "base_uri": "https://localhost:8080/"
        },
        "id": "GyInbhW3xrtn",
        "outputId": "5f0d570d-83f8-42c2-f752-45244730ee07"
      },
      "execution_count": null,
      "outputs": [
        {
          "output_type": "stream",
          "name": "stderr",
          "text": [
            "/usr/local/lib/python3.11/dist-packages/keras/src/layers/reshaping/flatten.py:37: UserWarning: Do not pass an `input_shape`/`input_dim` argument to a layer. When using Sequential models, prefer using an `Input(shape)` object as the first layer in the model instead.\n",
            "  super().__init__(**kwargs)\n"
          ]
        }
      ]
    },
    {
      "cell_type": "code",
      "source": [
        "discriminator.compile(loss='binary_crossentropy', optimizer='rmsprop')\n",
        "discriminator.trainable = False\n",
        "gan.compile(loss='binary_crossentropy', optimizer='rmsprop')"
      ],
      "metadata": {
        "id": "-HmFmQ3GyIjC"
      },
      "execution_count": null,
      "outputs": []
    },
    {
      "cell_type": "code",
      "source": [
        "batch_size = 32\n",
        "dataset = tf.data.Dataset.from_tensor_slices(X_train).shuffle(buffer_size=1000)\n",
        "dataset = dataset.batch(batch_size, drop_remainder=True).prefetch(1)"
      ],
      "metadata": {
        "id": "Y06AT4d3zCrs"
      },
      "execution_count": null,
      "outputs": []
    },
    {
      "cell_type": "code",
      "source": [
        "def train_gan(gan, dataset, batch_size, codings_size, n_epochs):\n",
        "    generator, discriminator = gan.layers\n",
        "    for epoch in range(n_epochs):\n",
        "        for X_batch in dataset:\n",
        "            # step 1: train discriminator\n",
        "            noise = tf.random.normal(shape=[batch_size, codings_size])\n",
        "            generated_images = generator(noise)\n",
        "            X_fake_and_real = tf.concat([generated_images, X_batch], axis=0)\n",
        "            y1 = tf.constant([[0.]] * batch_size + [[1.]] * batch_size)\n",
        "            discriminator.train_on_batch(X_fake_and_real, y1)\n",
        "            # step 2: train generator\n",
        "            noise = tf.random.normal(shape=[batch_size, codings_size])\n",
        "            y2 = tf.constant([[1.]] * batch_size)\n",
        "            gan.train_on_batch(noise, y2)\n",
        "\n",
        "train_gan(gan, dataset, batch_size, codings_size, n_epochs=5)"
      ],
      "metadata": {
        "colab": {
          "base_uri": "https://localhost:8080/"
        },
        "id": "pN3gQSMozygs",
        "outputId": "7ffe6ad5-4367-454d-9bc6-93242e182431"
      },
      "execution_count": null,
      "outputs": [
        {
          "output_type": "stream",
          "name": "stderr",
          "text": [
            "/usr/local/lib/python3.11/dist-packages/keras/src/backend/tensorflow/trainer.py:75: UserWarning: The model does not have any trainable weights.\n",
            "  warnings.warn(\"The model does not have any trainable weights.\")\n",
            "WARNING:tensorflow:5 out of the last 5 calls to <function TensorFlowTrainer.make_train_function.<locals>.one_step_on_iterator at 0x7c4190b16fc0> triggered tf.function retracing. Tracing is expensive and the excessive number of tracings could be due to (1) creating @tf.function repeatedly in a loop, (2) passing tensors with different shapes, (3) passing Python objects instead of tensors. For (1), please define your @tf.function outside of the loop. For (2), @tf.function has reduce_retracing=True option that can avoid unnecessary retracing. For (3), please refer to https://www.tensorflow.org/guide/function#controlling_retracing and https://www.tensorflow.org/api_docs/python/tf/function for  more details.\n",
            "WARNING:tensorflow:6 out of the last 6 calls to <function TensorFlowTrainer.make_train_function.<locals>.one_step_on_iterator at 0x7c412545c900> triggered tf.function retracing. Tracing is expensive and the excessive number of tracings could be due to (1) creating @tf.function repeatedly in a loop, (2) passing tensors with different shapes, (3) passing Python objects instead of tensors. For (1), please define your @tf.function outside of the loop. For (2), @tf.function has reduce_retracing=True option that can avoid unnecessary retracing. For (3), please refer to https://www.tensorflow.org/guide/function#controlling_retracing and https://www.tensorflow.org/api_docs/python/tf/function for  more details.\n"
          ]
        }
      ]
    },
    {
      "cell_type": "code",
      "source": [
        "codings = tf.random.normal(shape=[batch_size, codings_size])\n",
        "generated_images = generator.predict(codings)"
      ],
      "metadata": {
        "id": "2h-zlNxf0hOf"
      },
      "execution_count": null,
      "outputs": []
    },
    {
      "cell_type": "markdown",
      "source": [
        "### Deep Convolutional GAN"
      ],
      "metadata": {
        "id": "phHp5qLP2GnB"
      }
    },
    {
      "cell_type": "code",
      "source": [
        "codings_size = 100\n",
        "\n",
        "generator = tf.keras.Sequential([\n",
        "    tf.keras.layers.Dense(7 * 7 * 128, input_shape=[codings_size]),\n",
        "    tf.keras.layers.Reshape([7, 7, 128]),\n",
        "    tf.keras.layers.BatchNormalization(),\n",
        "    tf.keras.layers.Conv2DTranspose(64, kernel_size=5, strides=2, padding='same', activation='relu'),\n",
        "    tf.keras.layers.BatchNormalization(),\n",
        "    tf.keras.layers.Conv2DTranspose(1, kernel_size=5, strides=2, padding='same', activation='tanh'),\n",
        "])\n",
        "discriminator = tf.keras.Sequential([\n",
        "    tf.keras.layers.Conv2D(64, kernel_size=5, strides=2, padding='same', activation=tf.keras.layers.LeakyReLU(0.2), input_shape=[28, 28, 1]),\n",
        "    tf.keras.layers.Dropout(0.4),\n",
        "    tf.keras.layers.Conv2D(128, kernel_size=5, strides=2, padding='same', activation=tf.keras.layers.LeakyReLU(0.2)),\n",
        "    tf.keras.layers.Dropout(0.4),\n",
        "    tf.keras.layers.Flatten(),\n",
        "    tf.keras.layers.Dense(1, activation='sigmoid')\n",
        "])\n",
        "gan = tf.keras.Sequential([generator, discriminator])"
      ],
      "metadata": {
        "id": "XPY856DZ1ILg"
      },
      "execution_count": null,
      "outputs": []
    },
    {
      "cell_type": "code",
      "source": [
        "X_train = X_train.reshape(-1, 28, 28, 1) * 2. -1."
      ],
      "metadata": {
        "id": "ZuEB_v8c3Hsz"
      },
      "execution_count": null,
      "outputs": []
    },
    {
      "cell_type": "markdown",
      "source": [
        "## Diffusion Model"
      ],
      "metadata": {
        "id": "QL58CaKoOCGn"
      }
    },
    {
      "cell_type": "code",
      "source": [
        "def variance_schedule(T, s=0.008, max_beta=0.999):\n",
        "    t = np.arange(T + 1)\n",
        "    f = np.cos((t / T + s) / (1 + s) * np.pi / 2) ** 2\n",
        "    alpha = np.clip(f[1:] / f[:-1], 1 - max_beta, 1)\n",
        "    alpha = np.append(1, alpha).astype(np.float32)\n",
        "    beta = 1 - alpha\n",
        "    alpha_cumprod = np.cumprod(alpha)\n",
        "    return alpha, alpha_cumprod, beta\n",
        "\n",
        "T = 4000\n",
        "alpha, alpha_cumprod, beta = variance_schedule(T)"
      ],
      "metadata": {
        "id": "BShmUfTlOHy1"
      },
      "execution_count": 2,
      "outputs": []
    },
    {
      "cell_type": "code",
      "source": [
        "def prepare_batch(X):\n",
        "    X = tf.cast(X[..., tf.newaxis], tf.float32) * 2 - 1  # -1에서 +1까지 스케일링\n",
        "    X_shape = tf.shape(X)\n",
        "    t = tf.random.uniform([X_shape[0]], minval=1, maxval=T + 1, dtype=tf.int32)\n",
        "    alpha_cm = tf.gather(alpha_cumprod, t)\n",
        "    alpha_cm = tf.reshape(alpha_cm, [X_shape[0]] + [1] * (len(X_shape) - 1))\n",
        "    noise = tf.random.normal(X_shape)\n",
        "    return {\n",
        "        \"X_noisy\": alpha_cm ** 0.5 * X + (1 - alpha_cm) ** 0.5 * noise,\n",
        "        \"time\": t,\n",
        "    }, noise"
      ],
      "metadata": {
        "id": "l1jFm8UQOykH"
      },
      "execution_count": 9,
      "outputs": []
    },
    {
      "cell_type": "code",
      "source": [
        "def prepare_dataset(X, batch_size=32, shuffle=False):\n",
        "    ds = tf.data.Dataset.from_tensor_slices(X)\n",
        "    if shuffle:\n",
        "        ds = ds.shuffle(10_000)\n",
        "    return ds.batch(batch_size).map(prepare_batch).prefetch(1)\n",
        "\n",
        "tf.random.set_seed(43)\n",
        "train_set = prepare_dataset(X_train, batch_size=32, shuffle=True)\n",
        "valid_set = prepare_dataset(X_valid, batch_size=32)"
      ],
      "metadata": {
        "id": "0x0wR09VQLyk"
      },
      "execution_count": 10,
      "outputs": []
    },
    {
      "cell_type": "code",
      "source": [
        "embed_size = 64\n",
        "\n",
        "class TimeEncoding(tf.keras.layers.Layer):\n",
        "    def __init__(self, T, embed_size, dtype=tf.float32, **kwargs):\n",
        "        super().__init__(dtype=dtype, **kwargs)\n",
        "        assert embed_size % 2 == 0, \"embed_size must be even\"\n",
        "        p, i = np.meshgrid(np.arange(T + 1), 2 * np.arange(embed_size // 2))\n",
        "        t_emb = np.empty((T + 1, embed_size))\n",
        "        t_emb[:, ::2] = np.sin(p / 10_000 ** (i / embed_size)).T\n",
        "        t_emb[:, 1::2] = np.cos(p / 10_000 ** (i / embed_size)).T\n",
        "        self.time_encodings = tf.constant(t_emb.astype(self.dtype))\n",
        "\n",
        "    def call(self, inputs):\n",
        "        return tf.gather(self.time_encodings, inputs)"
      ],
      "metadata": {
        "id": "ckxzBt3rSQGI"
      },
      "execution_count": 12,
      "outputs": []
    },
    {
      "cell_type": "code",
      "source": [
        "def build_diffusion_model():\n",
        "    X_noisy = tf.keras.layers.Input(shape=[28, 28, 1], name=\"X_noisy\")\n",
        "    time_input = tf.keras.layers.Input(shape=[], dtype=tf.int32, name=\"time\")\n",
        "    time_enc = TimeEncoding(T, embed_size)(time_input)\n",
        "\n",
        "    dim = 16\n",
        "    Z = tf.keras.layers.ZeroPadding2D((3, 3))(X_noisy)\n",
        "    Z = tf.keras.layers.Conv2D(dim, 3)(Z)\n",
        "    Z = tf.keras.layers.BatchNormalization()(Z)\n",
        "    Z = tf.keras.layers.Activation(\"relu\")(Z)\n",
        "\n",
        "    time = tf.keras.layers.Dense(dim)(time_enc)\n",
        "    Z = time[:, tf.newaxis, tf.newaxis, :] + Z\n",
        "\n",
        "    skip = Z\n",
        "    cross_skips = []\n",
        "\n",
        "    for dim in (32, 64, 128):\n",
        "        Z = tf.keras.layers.Activation(\"relu\")(Z)\n",
        "        Z = tf.keras.layers.SeparableConv2D(dim, 3, padding=\"same\")(Z)\n",
        "        Z = tf.keras.layers.BatchNormalization()(Z)\n",
        "\n",
        "        Z = tf.keras.layers.Activation(\"relu\")(Z)\n",
        "        Z = tf.keras.layers.SeparableConv2D(dim, 3, padding=\"same\")(Z)\n",
        "        Z = tf.keras.layers.BatchNormalization()(Z)\n",
        "\n",
        "        cross_skips.append(Z)\n",
        "        Z = tf.keras.layers.MaxPooling2D(3, strides=2, padding=\"same\")(Z)\n",
        "        skip_link = tf.keras.layers.Conv2D(dim, 1, strides=2,\n",
        "                                           padding=\"same\")(skip)\n",
        "        Z = tf.keras.layers.add([Z, skip_link])\n",
        "\n",
        "        time = tf.keras.layers.Dense(dim)(time_enc)\n",
        "        Z = time[:, tf.newaxis, tf.newaxis, :] + Z\n",
        "        skip = Z\n",
        "\n",
        "    for dim in (64, 32, 16):\n",
        "        Z = tf.keras.layers.Activation(\"relu\")(Z)\n",
        "        Z = tf.keras.layers.Conv2DTranspose(dim, 3, padding=\"same\")(Z)\n",
        "        Z = tf.keras.layers.BatchNormalization()(Z)\n",
        "\n",
        "        Z = tf.keras.layers.Activation(\"relu\")(Z)\n",
        "        Z = tf.keras.layers.Conv2DTranspose(dim, 3, padding=\"same\")(Z)\n",
        "        Z = tf.keras.layers.BatchNormalization()(Z)\n",
        "\n",
        "        Z = tf.keras.layers.UpSampling2D(2)(Z)\n",
        "\n",
        "        skip_link = tf.keras.layers.UpSampling2D(2)(skip)\n",
        "        skip_link = tf.keras.layers.Conv2D(dim, 1, padding=\"same\")(skip_link)\n",
        "        Z = tf.keras.layers.add([Z, skip_link])\n",
        "\n",
        "        time = tf.keras.layers.Dense(dim)(time_enc)\n",
        "        Z = time[:, tf.newaxis, tf.newaxis, :] + Z\n",
        "        Z = tf.keras.layers.concatenate([Z, cross_skips.pop()], axis=-1)\n",
        "        skip = Z\n",
        "\n",
        "    outputs = tf.keras.layers.Conv2D(1, 3, padding=\"same\")(Z)[:, 2:-2, 2:-2]\n",
        "    return tf.keras.Model(inputs=[X_noisy, time_input], outputs=[outputs])"
      ],
      "metadata": {
        "id": "WglMIxNYRjFo"
      },
      "execution_count": 14,
      "outputs": []
    },
    {
      "cell_type": "code",
      "source": [
        "tf.random.set_seed(42)\n",
        "model = build_diffusion_model()\n",
        "model.compile(loss=tf.keras.losses.Huber(), optimizer=\"nadam\")\n",
        "\n",
        "\n",
        "history = model.fit(train_set, validation_data=valid_set, epochs=20)"
      ],
      "metadata": {
        "colab": {
          "base_uri": "https://localhost:8080/"
        },
        "id": "stgl--OsTH3w",
        "outputId": "1f7fc938-3a9c-4fdc-ad2f-7c347db9b64f"
      },
      "execution_count": 17,
      "outputs": [
        {
          "output_type": "stream",
          "name": "stdout",
          "text": [
            "Epoch 1/20\n",
            "\u001b[1m1719/1719\u001b[0m \u001b[32m━━━━━━━━━━━━━━━━━━━━\u001b[0m\u001b[37m\u001b[0m \u001b[1m58s\u001b[0m 17ms/step - loss: 0.1650 - val_loss: 0.0709\n",
            "Epoch 2/20\n",
            "\u001b[1m1719/1719\u001b[0m \u001b[32m━━━━━━━━━━━━━━━━━━━━\u001b[0m\u001b[37m\u001b[0m \u001b[1m17s\u001b[0m 10ms/step - loss: 0.0650 - val_loss: 0.0555\n",
            "Epoch 3/20\n",
            "\u001b[1m1719/1719\u001b[0m \u001b[32m━━━━━━━━━━━━━━━━━━━━\u001b[0m\u001b[37m\u001b[0m \u001b[1m18s\u001b[0m 10ms/step - loss: 0.0537 - val_loss: 0.0526\n",
            "Epoch 4/20\n",
            "\u001b[1m1719/1719\u001b[0m \u001b[32m━━━━━━━━━━━━━━━━━━━━\u001b[0m\u001b[37m\u001b[0m \u001b[1m17s\u001b[0m 10ms/step - loss: 0.0496 - val_loss: 0.0503\n",
            "Epoch 5/20\n",
            "\u001b[1m1719/1719\u001b[0m \u001b[32m━━━━━━━━━━━━━━━━━━━━\u001b[0m\u001b[37m\u001b[0m \u001b[1m17s\u001b[0m 10ms/step - loss: 0.0476 - val_loss: 0.0455\n",
            "Epoch 6/20\n",
            "\u001b[1m1719/1719\u001b[0m \u001b[32m━━━━━━━━━━━━━━━━━━━━\u001b[0m\u001b[37m\u001b[0m \u001b[1m17s\u001b[0m 10ms/step - loss: 0.0457 - val_loss: 0.0442\n",
            "Epoch 7/20\n",
            "\u001b[1m1719/1719\u001b[0m \u001b[32m━━━━━━━━━━━━━━━━━━━━\u001b[0m\u001b[37m\u001b[0m \u001b[1m17s\u001b[0m 10ms/step - loss: 0.0447 - val_loss: 0.0435\n",
            "Epoch 8/20\n",
            "\u001b[1m1719/1719\u001b[0m \u001b[32m━━━━━━━━━━━━━━━━━━━━\u001b[0m\u001b[37m\u001b[0m \u001b[1m17s\u001b[0m 10ms/step - loss: 0.0436 - val_loss: 0.0437\n",
            "Epoch 9/20\n",
            "\u001b[1m1719/1719\u001b[0m \u001b[32m━━━━━━━━━━━━━━━━━━━━\u001b[0m\u001b[37m\u001b[0m \u001b[1m18s\u001b[0m 10ms/step - loss: 0.0432 - val_loss: 0.0428\n",
            "Epoch 10/20\n",
            "\u001b[1m1719/1719\u001b[0m \u001b[32m━━━━━━━━━━━━━━━━━━━━\u001b[0m\u001b[37m\u001b[0m \u001b[1m17s\u001b[0m 10ms/step - loss: 0.0425 - val_loss: 0.0415\n",
            "Epoch 11/20\n",
            "\u001b[1m1719/1719\u001b[0m \u001b[32m━━━━━━━━━━━━━━━━━━━━\u001b[0m\u001b[37m\u001b[0m \u001b[1m17s\u001b[0m 10ms/step - loss: 0.0422 - val_loss: 0.0411\n",
            "Epoch 12/20\n",
            "\u001b[1m1719/1719\u001b[0m \u001b[32m━━━━━━━━━━━━━━━━━━━━\u001b[0m\u001b[37m\u001b[0m \u001b[1m18s\u001b[0m 10ms/step - loss: 0.0419 - val_loss: 0.0423\n",
            "Epoch 13/20\n",
            "\u001b[1m1719/1719\u001b[0m \u001b[32m━━━━━━━━━━━━━━━━━━━━\u001b[0m\u001b[37m\u001b[0m \u001b[1m17s\u001b[0m 10ms/step - loss: 0.0416 - val_loss: 0.0413\n",
            "Epoch 14/20\n",
            "\u001b[1m1719/1719\u001b[0m \u001b[32m━━━━━━━━━━━━━━━━━━━━\u001b[0m\u001b[37m\u001b[0m \u001b[1m17s\u001b[0m 10ms/step - loss: 0.0417 - val_loss: 0.0409\n",
            "Epoch 15/20\n",
            "\u001b[1m1719/1719\u001b[0m \u001b[32m━━━━━━━━━━━━━━━━━━━━\u001b[0m\u001b[37m\u001b[0m \u001b[1m17s\u001b[0m 10ms/step - loss: 0.0411 - val_loss: 0.0402\n",
            "Epoch 16/20\n",
            "\u001b[1m1719/1719\u001b[0m \u001b[32m━━━━━━━━━━━━━━━━━━━━\u001b[0m\u001b[37m\u001b[0m \u001b[1m17s\u001b[0m 10ms/step - loss: 0.0409 - val_loss: 0.0408\n",
            "Epoch 17/20\n",
            "\u001b[1m1719/1719\u001b[0m \u001b[32m━━━━━━━━━━━━━━━━━━━━\u001b[0m\u001b[37m\u001b[0m \u001b[1m17s\u001b[0m 10ms/step - loss: 0.0408 - val_loss: 0.0411\n",
            "Epoch 18/20\n",
            "\u001b[1m1719/1719\u001b[0m \u001b[32m━━━━━━━━━━━━━━━━━━━━\u001b[0m\u001b[37m\u001b[0m \u001b[1m17s\u001b[0m 10ms/step - loss: 0.0407 - val_loss: 0.0401\n",
            "Epoch 19/20\n",
            "\u001b[1m1719/1719\u001b[0m \u001b[32m━━━━━━━━━━━━━━━━━━━━\u001b[0m\u001b[37m\u001b[0m \u001b[1m20s\u001b[0m 10ms/step - loss: 0.0404 - val_loss: 0.0418\n",
            "Epoch 20/20\n",
            "\u001b[1m1719/1719\u001b[0m \u001b[32m━━━━━━━━━━━━━━━━━━━━\u001b[0m\u001b[37m\u001b[0m \u001b[1m18s\u001b[0m 10ms/step - loss: 0.0403 - val_loss: 0.0396\n"
          ]
        }
      ]
    },
    {
      "cell_type": "code",
      "source": [
        "def generate(model, batch_size=32):\n",
        "    X = tf.random.normal([batch_size, 28, 28, 1])\n",
        "    for t in range(T - 1, 0, -1):\n",
        "        print(f\"\\rt = {t}\", end=\" \")\n",
        "        noise = (tf.random.normal if t > 1 else tf.zeros)(tf.shape(X))\n",
        "        X_noise = model({\"X_noisy\": X, \"time\": tf.constant([t] * batch_size)})\n",
        "        X = (\n",
        "            1 / alpha[t] ** 0.5\n",
        "            * (X - beta[t] / (1 - alpha_cumprod[t]) ** 0.5 * X_noise)\n",
        "            + (1 - alpha[t]) ** 0.5 * noise\n",
        "        )\n",
        "    return X\n",
        "\n",
        "tf.random.set_seed(42)\n",
        "X_gen = generate(model)"
      ],
      "metadata": {
        "colab": {
          "base_uri": "https://localhost:8080/"
        },
        "id": "B6PCtCB2SLGY",
        "outputId": "d8cc8e89-e4ee-468e-c7dc-e30e08cc5153"
      },
      "execution_count": 18,
      "outputs": [
        {
          "output_type": "stream",
          "name": "stdout",
          "text": [
            "t = 1 "
          ]
        }
      ]
    }
  ]
}